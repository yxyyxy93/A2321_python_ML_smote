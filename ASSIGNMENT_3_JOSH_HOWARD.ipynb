{
  "nbformat": 4,
  "nbformat_minor": 0,
  "metadata": {
    "colab": {
      "name": "ASSIGNMENT_3_JOSH_HOWARD.ipynb",
      "provenance": [],
      "collapsed_sections": [],
      "toc_visible": true,
      "include_colab_link": true
    },
    "kernelspec": {
      "name": "python3",
      "display_name": "Python 3"
    }
  },
  "cells": [
    {
      "cell_type": "markdown",
      "metadata": {
        "id": "view-in-github",
        "colab_type": "text"
      },
      "source": [
        "<a href=\"https://colab.research.google.com/github/yxyyxy93/A2321_python_ML_smote/blob/master/ASSIGNMENT_3_JOSH_HOWARD.ipynb\" target=\"_parent\"><img src=\"https://colab.research.google.com/assets/colab-badge.svg\" alt=\"Open In Colab\"/></a>"
      ]
    },
    {
      "cell_type": "markdown",
      "metadata": {
        "id": "RddcBMrcww-j",
        "colab_type": "text"
      },
      "source": [
        ""
      ]
    },
    {
      "cell_type": "code",
      "metadata": {
        "id": "v1MODIugRLsT",
        "colab_type": "code",
        "colab": {}
      },
      "source": [
        "# setting up environment\n",
        "import sys\n",
        "assert sys.version_info >= (3, 5)\n",
        "\n",
        "import seaborn as sns\n",
        "import matplotlib.pyplot as plt\n",
        "\n",
        "import sklearn\n",
        "assert sklearn.__version__ >= \"0.20\"\n",
        "\n",
        "import numpy as np\n",
        "import pandas as pd\n",
        "\n",
        "from scipy.stats import norm\n",
        "\n",
        "from sklearn.model_selection import train_test_split\n",
        "from imblearn.over_sampling import SMOTE\n",
        "from sklearn.preprocessing import StandardScaler\n",
        "from sklearn.datasets import make_moons, make_circles, make_classification\n",
        "from sklearn.linear_model import LogisticRegression\n",
        "from sklearn.neural_network import MLPClassifier\n",
        "from sklearn.neighbors import KNeighborsClassifier\n",
        "from sklearn.svm import SVC\n",
        "from sklearn.gaussian_process import GaussianProcessClassifier\n",
        "from sklearn.gaussian_process.kernels import RBF\n",
        "from sklearn.tree import DecisionTreeClassifier\n",
        "from sklearn.ensemble import RandomForestClassifier, AdaBoostClassifier\n",
        "from sklearn.naive_bayes import GaussianNB\n",
        "from sklearn.discriminant_analysis import QuadraticDiscriminantAnalysis\n",
        "from xgboost import XGBClassifier\n",
        "\n",
        "np.random.seed(42)\n",
        "\n",
        "default_data = pd.read_csv(\"https://s3.amazonaws.com/www.ruxton.ai/bank+defaults.csv\")"
      ],
      "execution_count": 0,
      "outputs": []
    },
    {
      "cell_type": "code",
      "metadata": {
        "id": "NxqrhPYcKBTZ",
        "colab_type": "code",
        "outputId": "a47f7bab-2057-4b66-8bfe-bae5c7b13f69",
        "colab": {
          "base_uri": "https://localhost:8080/",
          "height": 417
        }
      },
      "source": [
        "default_data.head()"
      ],
      "execution_count": 0,
      "outputs": [
        {
          "output_type": "execute_result",
          "data": {
            "text/html": [
              "<div>\n",
              "<style scoped>\n",
              "    .dataframe tbody tr th:only-of-type {\n",
              "        vertical-align: middle;\n",
              "    }\n",
              "\n",
              "    .dataframe tbody tr th {\n",
              "        vertical-align: top;\n",
              "    }\n",
              "\n",
              "    .dataframe thead th {\n",
              "        text-align: right;\n",
              "    }\n",
              "</style>\n",
              "<table border=\"1\" class=\"dataframe\">\n",
              "  <thead>\n",
              "    <tr style=\"text-align: right;\">\n",
              "      <th></th>\n",
              "      <th>Financial Institution Name</th>\n",
              "      <th>total_assets</th>\n",
              "      <th>defaulter</th>\n",
              "      <th>Failure_Assistance</th>\n",
              "      <th>log_TA</th>\n",
              "      <th>NI_to_TA</th>\n",
              "      <th>Equity_to_TA</th>\n",
              "      <th>NPL_to_TL</th>\n",
              "      <th>REO_to_TA</th>\n",
              "      <th>ALLL_to_TL</th>\n",
              "      <th>core_deposits_to_TA</th>\n",
              "      <th>brokered_deposits_to_TA</th>\n",
              "      <th>liquid_assets_to_TA</th>\n",
              "      <th>loss_provision_to_TL</th>\n",
              "      <th>ROA</th>\n",
              "      <th>NIM</th>\n",
              "      <th>assets_growth</th>\n",
              "      <th>term_spread</th>\n",
              "      <th>stock_mkt_growth</th>\n",
              "      <th>real_gdp_growth</th>\n",
              "      <th>unemployment_rate_change</th>\n",
              "      <th>treasury_yield_3m</th>\n",
              "      <th>bbb_spread</th>\n",
              "      <th>bbb_spread_change</th>\n",
              "      <th>log_TA_plus_1Q</th>\n",
              "      <th>NI_to_TA_plus_1Q</th>\n",
              "      <th>Equity_to_TA_plus_1Q</th>\n",
              "      <th>NPL_to_TL_plus_1Q</th>\n",
              "      <th>REO_to_TA_plus_1Q</th>\n",
              "      <th>ALLL_to_TL_plus_1Q</th>\n",
              "      <th>core_deposits_to_TA_plus_1Q</th>\n",
              "      <th>brokered_deposits_to_TA_plus_1Q</th>\n",
              "      <th>liquid_assets_to_TA_plus_1Q</th>\n",
              "      <th>loss_provision_to_TL_plus_1Q</th>\n",
              "      <th>ROA_plus_1Q</th>\n",
              "      <th>NIM_plus_1Q</th>\n",
              "      <th>assets_growth_plus_1Q</th>\n",
              "      <th>max_total_assets</th>\n",
              "    </tr>\n",
              "  </thead>\n",
              "  <tbody>\n",
              "    <tr>\n",
              "      <th>0</th>\n",
              "      <td>COLORADO NATIONAL BANK</td>\n",
              "      <td>142138</td>\n",
              "      <td>1</td>\n",
              "      <td>FAILURE</td>\n",
              "      <td>-0.048734</td>\n",
              "      <td>-6.505183</td>\n",
              "      <td>-0.759562</td>\n",
              "      <td>0.880756</td>\n",
              "      <td>-0.162301</td>\n",
              "      <td>-0.039358</td>\n",
              "      <td>-1.594099</td>\n",
              "      <td>-0.182975</td>\n",
              "      <td>0.095380</td>\n",
              "      <td>0.003640</td>\n",
              "      <td>-6.505183</td>\n",
              "      <td>-0.554017</td>\n",
              "      <td>0.365436</td>\n",
              "      <td>0.155788</td>\n",
              "      <td>-0.317435</td>\n",
              "      <td>-0.253927</td>\n",
              "      <td>0.859609</td>\n",
              "      <td>0.006692</td>\n",
              "      <td>0.894064</td>\n",
              "      <td>0.417366</td>\n",
              "      <td>-0.069667</td>\n",
              "      <td>-0.367905</td>\n",
              "      <td>-0.795966</td>\n",
              "      <td>2.013862</td>\n",
              "      <td>-0.066290</td>\n",
              "      <td>0.294916</td>\n",
              "      <td>-2.007894</td>\n",
              "      <td>-0.182975</td>\n",
              "      <td>0.106776</td>\n",
              "      <td>0.004823</td>\n",
              "      <td>-0.367905</td>\n",
              "      <td>-0.840312</td>\n",
              "      <td>-0.582232</td>\n",
              "      <td>142138</td>\n",
              "    </tr>\n",
              "    <tr>\n",
              "      <th>1</th>\n",
              "      <td>COMMUNITY BANK, NATIONAL ASSOCIATION</td>\n",
              "      <td>6364903</td>\n",
              "      <td>0</td>\n",
              "      <td>NaN</td>\n",
              "      <td>2.754852</td>\n",
              "      <td>0.143005</td>\n",
              "      <td>0.249275</td>\n",
              "      <td>-0.405931</td>\n",
              "      <td>-0.327268</td>\n",
              "      <td>-0.244766</td>\n",
              "      <td>0.265125</td>\n",
              "      <td>-0.150770</td>\n",
              "      <td>0.229372</td>\n",
              "      <td>-0.003401</td>\n",
              "      <td>0.143005</td>\n",
              "      <td>-0.109970</td>\n",
              "      <td>1.447333</td>\n",
              "      <td>0.897368</td>\n",
              "      <td>-0.132755</td>\n",
              "      <td>0.348841</td>\n",
              "      <td>0.202649</td>\n",
              "      <td>-0.956664</td>\n",
              "      <td>-0.324746</td>\n",
              "      <td>-0.095051</td>\n",
              "      <td>2.767996</td>\n",
              "      <td>0.205816</td>\n",
              "      <td>0.236031</td>\n",
              "      <td>-0.388327</td>\n",
              "      <td>-0.335160</td>\n",
              "      <td>-0.245810</td>\n",
              "      <td>0.283318</td>\n",
              "      <td>-0.156056</td>\n",
              "      <td>0.318976</td>\n",
              "      <td>-0.003057</td>\n",
              "      <td>0.205816</td>\n",
              "      <td>-0.140365</td>\n",
              "      <td>0.003962</td>\n",
              "      <td>8494486</td>\n",
              "    </tr>\n",
              "    <tr>\n",
              "      <th>2</th>\n",
              "      <td>NEXBANK, SSB</td>\n",
              "      <td>784781</td>\n",
              "      <td>0</td>\n",
              "      <td>NaN</td>\n",
              "      <td>1.211269</td>\n",
              "      <td>0.229021</td>\n",
              "      <td>-0.301031</td>\n",
              "      <td>-0.750449</td>\n",
              "      <td>-0.304600</td>\n",
              "      <td>-0.661804</td>\n",
              "      <td>-2.362597</td>\n",
              "      <td>-0.182975</td>\n",
              "      <td>-0.473225</td>\n",
              "      <td>-0.002684</td>\n",
              "      <td>0.229021</td>\n",
              "      <td>-0.783150</td>\n",
              "      <td>1.466905</td>\n",
              "      <td>-0.400396</td>\n",
              "      <td>0.188968</td>\n",
              "      <td>-0.387875</td>\n",
              "      <td>-0.782792</td>\n",
              "      <td>-0.896455</td>\n",
              "      <td>0.081524</td>\n",
              "      <td>0.161157</td>\n",
              "      <td>1.241315</td>\n",
              "      <td>0.470935</td>\n",
              "      <td>-0.242253</td>\n",
              "      <td>-0.809730</td>\n",
              "      <td>-0.374868</td>\n",
              "      <td>-0.673111</td>\n",
              "      <td>-1.386875</td>\n",
              "      <td>-0.182975</td>\n",
              "      <td>-0.630034</td>\n",
              "      <td>-0.003506</td>\n",
              "      <td>0.470935</td>\n",
              "      <td>-0.799310</td>\n",
              "      <td>0.284815</td>\n",
              "      <td>2698563</td>\n",
              "    </tr>\n",
              "    <tr>\n",
              "      <th>3</th>\n",
              "      <td>COMMERCE BANK/SHORE NATIONAL ASSOCIATION</td>\n",
              "      <td>2173481</td>\n",
              "      <td>0</td>\n",
              "      <td>NaN</td>\n",
              "      <td>1.962490</td>\n",
              "      <td>0.253469</td>\n",
              "      <td>-0.922810</td>\n",
              "      <td>-0.752942</td>\n",
              "      <td>-0.374868</td>\n",
              "      <td>-0.260532</td>\n",
              "      <td>1.438397</td>\n",
              "      <td>-0.182975</td>\n",
              "      <td>1.850473</td>\n",
              "      <td>-0.002771</td>\n",
              "      <td>0.253469</td>\n",
              "      <td>-0.099539</td>\n",
              "      <td>0.459243</td>\n",
              "      <td>0.433881</td>\n",
              "      <td>1.674053</td>\n",
              "      <td>0.951609</td>\n",
              "      <td>0.531129</td>\n",
              "      <td>-0.354567</td>\n",
              "      <td>-0.189323</td>\n",
              "      <td>-0.863677</td>\n",
              "      <td>2.043363</td>\n",
              "      <td>0.225454</td>\n",
              "      <td>-1.039013</td>\n",
              "      <td>-0.740467</td>\n",
              "      <td>-0.374868</td>\n",
              "      <td>-0.249210</td>\n",
              "      <td>1.427099</td>\n",
              "      <td>-0.182975</td>\n",
              "      <td>2.028526</td>\n",
              "      <td>-0.002819</td>\n",
              "      <td>0.225454</td>\n",
              "      <td>-0.324276</td>\n",
              "      <td>1.091618</td>\n",
              "      <td>2697759</td>\n",
              "    </tr>\n",
              "    <tr>\n",
              "      <th>4</th>\n",
              "      <td>CENTENNIAL BANK</td>\n",
              "      <td>241440</td>\n",
              "      <td>1</td>\n",
              "      <td>FAILURE</td>\n",
              "      <td>0.341981</td>\n",
              "      <td>-1.857315</td>\n",
              "      <td>-0.643992</td>\n",
              "      <td>4.583630</td>\n",
              "      <td>10.678175</td>\n",
              "      <td>0.926359</td>\n",
              "      <td>-2.175126</td>\n",
              "      <td>-0.182975</td>\n",
              "      <td>-1.471494</td>\n",
              "      <td>0.041009</td>\n",
              "      <td>-1.857315</td>\n",
              "      <td>-1.160576</td>\n",
              "      <td>1.145982</td>\n",
              "      <td>1.082763</td>\n",
              "      <td>1.685831</td>\n",
              "      <td>-1.928282</td>\n",
              "      <td>3.158971</td>\n",
              "      <td>-0.836245</td>\n",
              "      <td>3.331682</td>\n",
              "      <td>-3.169554</td>\n",
              "      <td>0.315538</td>\n",
              "      <td>-0.945865</td>\n",
              "      <td>-0.677217</td>\n",
              "      <td>4.701457</td>\n",
              "      <td>12.485022</td>\n",
              "      <td>-0.786735</td>\n",
              "      <td>-1.679305</td>\n",
              "      <td>-0.182975</td>\n",
              "      <td>-1.417561</td>\n",
              "      <td>-0.004326</td>\n",
              "      <td>-0.945865</td>\n",
              "      <td>-1.657427</td>\n",
              "      <td>-0.679579</td>\n",
              "      <td>241440</td>\n",
              "    </tr>\n",
              "  </tbody>\n",
              "</table>\n",
              "</div>"
            ],
            "text/plain": [
              "                 Financial Institution Name  ...  max_total_assets\n",
              "0                    COLORADO NATIONAL BANK  ...            142138\n",
              "1      COMMUNITY BANK, NATIONAL ASSOCIATION  ...           8494486\n",
              "2                              NEXBANK, SSB  ...           2698563\n",
              "3  COMMERCE BANK/SHORE NATIONAL ASSOCIATION  ...           2697759\n",
              "4                           CENTENNIAL BANK  ...            241440\n",
              "\n",
              "[5 rows x 38 columns]"
            ]
          },
          "metadata": {
            "tags": []
          },
          "execution_count": 12
        }
      ]
    },
    {
      "cell_type": "code",
      "metadata": {
        "id": "TnDTYC-iFTMz",
        "colab_type": "code",
        "colab": {}
      },
      "source": [
        "# splitting data into test and train\n",
        "features = list(default_data.columns.values[4:])\n",
        "\n",
        "X = default_data[features]\n",
        "Y = default_data['defaulter']\n",
        "\n",
        "from sklearn.model_selection import train_test_split\n",
        "X_train, X_test, Y_train, Y_test = train_test_split(\n",
        "    X, Y, test_size=0.3, random_state=42, stratify=Y)"
      ],
      "execution_count": 0,
      "outputs": []
    },
    {
      "cell_type": "markdown",
      "metadata": {
        "id": "YV7IGiVIKeGC",
        "colab_type": "text"
      },
      "source": [
        "# EDA"
      ]
    },
    {
      "cell_type": "code",
      "metadata": {
        "id": "-KiY5KwgKI5E",
        "colab_type": "code",
        "outputId": "4edb1bad-764d-4349-f108-c01dcc896729",
        "colab": {
          "base_uri": "https://localhost:8080/",
          "height": 252
        }
      },
      "source": [
        "# INITIAL OVERVIEW OF DATA LOAD\n",
        "print(X.head())\n",
        "print(Y.head())"
      ],
      "execution_count": 0,
      "outputs": [
        {
          "output_type": "stream",
          "text": [
            "     log_TA  NI_to_TA  ...  assets_growth_plus_1Q  max_total_assets\n",
            "0 -0.048734 -6.505183  ...              -0.582232            142138\n",
            "1  2.754852  0.143005  ...               0.003962           8494486\n",
            "2  1.211269  0.229021  ...               0.284815           2698563\n",
            "3  1.962490  0.253469  ...               1.091618           2697759\n",
            "4  0.341981 -1.857315  ...              -0.679579            241440\n",
            "\n",
            "[5 rows x 34 columns]\n",
            "0    1\n",
            "1    0\n",
            "2    0\n",
            "3    0\n",
            "4    1\n",
            "Name: defaulter, dtype: int64\n"
          ],
          "name": "stdout"
        }
      ]
    },
    {
      "cell_type": "code",
      "metadata": {
        "id": "J2FBm7TdRnep",
        "colab_type": "code",
        "outputId": "d96050e8-eaee-4ca2-f963-17bd6c59776e",
        "colab": {
          "base_uri": "https://localhost:8080/",
          "height": 304
        }
      },
      "source": [
        "# Take a look at descriptive summary statistics of each column \n",
        "default_data.describe()"
      ],
      "execution_count": 0,
      "outputs": [
        {
          "output_type": "execute_result",
          "data": {
            "text/html": [
              "<div>\n",
              "<style scoped>\n",
              "    .dataframe tbody tr th:only-of-type {\n",
              "        vertical-align: middle;\n",
              "    }\n",
              "\n",
              "    .dataframe tbody tr th {\n",
              "        vertical-align: top;\n",
              "    }\n",
              "\n",
              "    .dataframe thead th {\n",
              "        text-align: right;\n",
              "    }\n",
              "</style>\n",
              "<table border=\"1\" class=\"dataframe\">\n",
              "  <thead>\n",
              "    <tr style=\"text-align: right;\">\n",
              "      <th></th>\n",
              "      <th>total_assets</th>\n",
              "      <th>defaulter</th>\n",
              "      <th>log_TA</th>\n",
              "      <th>NI_to_TA</th>\n",
              "      <th>Equity_to_TA</th>\n",
              "      <th>NPL_to_TL</th>\n",
              "      <th>REO_to_TA</th>\n",
              "      <th>ALLL_to_TL</th>\n",
              "      <th>core_deposits_to_TA</th>\n",
              "      <th>brokered_deposits_to_TA</th>\n",
              "      <th>liquid_assets_to_TA</th>\n",
              "      <th>loss_provision_to_TL</th>\n",
              "      <th>ROA</th>\n",
              "      <th>NIM</th>\n",
              "      <th>assets_growth</th>\n",
              "      <th>term_spread</th>\n",
              "      <th>stock_mkt_growth</th>\n",
              "      <th>real_gdp_growth</th>\n",
              "      <th>unemployment_rate_change</th>\n",
              "      <th>treasury_yield_3m</th>\n",
              "      <th>bbb_spread</th>\n",
              "      <th>bbb_spread_change</th>\n",
              "      <th>log_TA_plus_1Q</th>\n",
              "      <th>NI_to_TA_plus_1Q</th>\n",
              "      <th>Equity_to_TA_plus_1Q</th>\n",
              "      <th>NPL_to_TL_plus_1Q</th>\n",
              "      <th>REO_to_TA_plus_1Q</th>\n",
              "      <th>ALLL_to_TL_plus_1Q</th>\n",
              "      <th>core_deposits_to_TA_plus_1Q</th>\n",
              "      <th>brokered_deposits_to_TA_plus_1Q</th>\n",
              "      <th>liquid_assets_to_TA_plus_1Q</th>\n",
              "      <th>loss_provision_to_TL_plus_1Q</th>\n",
              "      <th>ROA_plus_1Q</th>\n",
              "      <th>NIM_plus_1Q</th>\n",
              "      <th>assets_growth_plus_1Q</th>\n",
              "      <th>max_total_assets</th>\n",
              "    </tr>\n",
              "  </thead>\n",
              "  <tbody>\n",
              "    <tr>\n",
              "      <th>count</th>\n",
              "      <td>8.700000e+02</td>\n",
              "      <td>870.000000</td>\n",
              "      <td>870.000000</td>\n",
              "      <td>870.000000</td>\n",
              "      <td>870.000000</td>\n",
              "      <td>870.000000</td>\n",
              "      <td>870.000000</td>\n",
              "      <td>870.000000</td>\n",
              "      <td>870.000000</td>\n",
              "      <td>870.000000</td>\n",
              "      <td>870.000000</td>\n",
              "      <td>870.000000</td>\n",
              "      <td>870.000000</td>\n",
              "      <td>870.000000</td>\n",
              "      <td>870.000000</td>\n",
              "      <td>870.000000</td>\n",
              "      <td>870.000000</td>\n",
              "      <td>870.000000</td>\n",
              "      <td>870.000000</td>\n",
              "      <td>870.000000</td>\n",
              "      <td>870.000000</td>\n",
              "      <td>870.000000</td>\n",
              "      <td>870.000000</td>\n",
              "      <td>870.000000</td>\n",
              "      <td>870.000000</td>\n",
              "      <td>870.000000</td>\n",
              "      <td>870.000000</td>\n",
              "      <td>870.000000</td>\n",
              "      <td>870.000000</td>\n",
              "      <td>870.000000</td>\n",
              "      <td>870.000000</td>\n",
              "      <td>870.000000</td>\n",
              "      <td>870.000000</td>\n",
              "      <td>870.000000</td>\n",
              "      <td>870.000000</td>\n",
              "      <td>8.700000e+02</td>\n",
              "    </tr>\n",
              "    <tr>\n",
              "      <th>mean</th>\n",
              "      <td>1.313352e+07</td>\n",
              "      <td>0.481609</td>\n",
              "      <td>1.584821</td>\n",
              "      <td>-0.869547</td>\n",
              "      <td>-0.379015</td>\n",
              "      <td>1.556043</td>\n",
              "      <td>1.298955</td>\n",
              "      <td>0.787284</td>\n",
              "      <td>-0.823960</td>\n",
              "      <td>0.260146</td>\n",
              "      <td>-0.466584</td>\n",
              "      <td>0.009045</td>\n",
              "      <td>-0.869547</td>\n",
              "      <td>-0.386967</td>\n",
              "      <td>-0.205208</td>\n",
              "      <td>0.388704</td>\n",
              "      <td>0.136724</td>\n",
              "      <td>-0.199578</td>\n",
              "      <td>0.459769</td>\n",
              "      <td>-0.478377</td>\n",
              "      <td>0.628665</td>\n",
              "      <td>-0.420171</td>\n",
              "      <td>1.586162</td>\n",
              "      <td>-1.115987</td>\n",
              "      <td>-0.477709</td>\n",
              "      <td>1.865542</td>\n",
              "      <td>1.547698</td>\n",
              "      <td>0.930237</td>\n",
              "      <td>-0.773133</td>\n",
              "      <td>0.291014</td>\n",
              "      <td>-0.440946</td>\n",
              "      <td>0.014013</td>\n",
              "      <td>-1.115987</td>\n",
              "      <td>-0.457421</td>\n",
              "      <td>-0.267356</td>\n",
              "      <td>1.934044e+07</td>\n",
              "    </tr>\n",
              "    <tr>\n",
              "      <th>std</th>\n",
              "      <td>7.639600e+07</td>\n",
              "      <td>0.499949</td>\n",
              "      <td>1.521800</td>\n",
              "      <td>2.476686</td>\n",
              "      <td>1.045405</td>\n",
              "      <td>2.534257</td>\n",
              "      <td>3.047004</td>\n",
              "      <td>2.801033</td>\n",
              "      <td>1.434373</td>\n",
              "      <td>2.105678</td>\n",
              "      <td>0.895138</td>\n",
              "      <td>0.058432</td>\n",
              "      <td>2.476686</td>\n",
              "      <td>1.498984</td>\n",
              "      <td>1.157331</td>\n",
              "      <td>0.822894</td>\n",
              "      <td>1.221701</td>\n",
              "      <td>1.148861</td>\n",
              "      <td>1.346864</td>\n",
              "      <td>0.711029</td>\n",
              "      <td>1.235701</td>\n",
              "      <td>1.481374</td>\n",
              "      <td>1.534702</td>\n",
              "      <td>2.270516</td>\n",
              "      <td>1.054320</td>\n",
              "      <td>2.845984</td>\n",
              "      <td>3.383322</td>\n",
              "      <td>2.852296</td>\n",
              "      <td>1.436544</td>\n",
              "      <td>2.110155</td>\n",
              "      <td>0.885047</td>\n",
              "      <td>0.034454</td>\n",
              "      <td>2.270516</td>\n",
              "      <td>1.578822</td>\n",
              "      <td>1.284103</td>\n",
              "      <td>1.130711e+08</td>\n",
              "    </tr>\n",
              "    <tr>\n",
              "      <th>min</th>\n",
              "      <td>1.027900e+04</td>\n",
              "      <td>0.000000</td>\n",
              "      <td>-1.985778</td>\n",
              "      <td>-51.439048</td>\n",
              "      <td>-2.046963</td>\n",
              "      <td>-0.828664</td>\n",
              "      <td>-0.374868</td>\n",
              "      <td>-1.129467</td>\n",
              "      <td>-5.129210</td>\n",
              "      <td>-0.182975</td>\n",
              "      <td>-1.979460</td>\n",
              "      <td>-1.483912</td>\n",
              "      <td>-51.439048</td>\n",
              "      <td>-6.194351</td>\n",
              "      <td>-9.356461</td>\n",
              "      <td>-1.976253</td>\n",
              "      <td>-2.083478</td>\n",
              "      <td>-2.865922</td>\n",
              "      <td>-1.768233</td>\n",
              "      <td>-0.956664</td>\n",
              "      <td>-0.866439</td>\n",
              "      <td>-3.681972</td>\n",
              "      <td>-2.018190</td>\n",
              "      <td>-19.316688</td>\n",
              "      <td>-2.288598</td>\n",
              "      <td>-0.828664</td>\n",
              "      <td>-0.374868</td>\n",
              "      <td>-1.129467</td>\n",
              "      <td>-5.129210</td>\n",
              "      <td>-0.182975</td>\n",
              "      <td>-1.980064</td>\n",
              "      <td>-0.019260</td>\n",
              "      <td>-19.316688</td>\n",
              "      <td>-8.915473</td>\n",
              "      <td>-15.281245</td>\n",
              "      <td>1.105100e+04</td>\n",
              "    </tr>\n",
              "    <tr>\n",
              "      <th>25%</th>\n",
              "      <td>2.378598e+05</td>\n",
              "      <td>0.000000</td>\n",
              "      <td>0.330963</td>\n",
              "      <td>-1.255314</td>\n",
              "      <td>-0.940447</td>\n",
              "      <td>-0.347852</td>\n",
              "      <td>-0.344098</td>\n",
              "      <td>-0.222636</td>\n",
              "      <td>-1.563354</td>\n",
              "      <td>-0.182975</td>\n",
              "      <td>-1.013977</td>\n",
              "      <td>-0.003348</td>\n",
              "      <td>-1.255314</td>\n",
              "      <td>-1.039708</td>\n",
              "      <td>-0.649127</td>\n",
              "      <td>0.155788</td>\n",
              "      <td>-0.510166</td>\n",
              "      <td>-0.722746</td>\n",
              "      <td>-0.454312</td>\n",
              "      <td>-0.896455</td>\n",
              "      <td>-0.189323</td>\n",
              "      <td>-0.863677</td>\n",
              "      <td>0.296101</td>\n",
              "      <td>-1.613585</td>\n",
              "      <td>-1.171856</td>\n",
              "      <td>-0.325760</td>\n",
              "      <td>-0.339910</td>\n",
              "      <td>-0.215307</td>\n",
              "      <td>-1.463861</td>\n",
              "      <td>-0.182975</td>\n",
              "      <td>-0.998821</td>\n",
              "      <td>-0.003262</td>\n",
              "      <td>-1.613585</td>\n",
              "      <td>-1.124063</td>\n",
              "      <td>-0.688477</td>\n",
              "      <td>2.768382e+05</td>\n",
              "    </tr>\n",
              "    <tr>\n",
              "      <th>50%</th>\n",
              "      <td>1.603880e+06</td>\n",
              "      <td>0.000000</td>\n",
              "      <td>1.738377</td>\n",
              "      <td>-0.156508</td>\n",
              "      <td>-0.506693</td>\n",
              "      <td>0.620602</td>\n",
              "      <td>-0.048097</td>\n",
              "      <td>0.300897</td>\n",
              "      <td>-0.555864</td>\n",
              "      <td>-0.182975</td>\n",
              "      <td>-0.633484</td>\n",
              "      <td>-0.000408</td>\n",
              "      <td>-0.156508</td>\n",
              "      <td>-0.515601</td>\n",
              "      <td>-0.174421</td>\n",
              "      <td>0.433881</td>\n",
              "      <td>0.067940</td>\n",
              "      <td>-0.119978</td>\n",
              "      <td>0.202649</td>\n",
              "      <td>-0.836245</td>\n",
              "      <td>0.216947</td>\n",
              "      <td>0.161157</td>\n",
              "      <td>1.778205</td>\n",
              "      <td>-0.198886</td>\n",
              "      <td>-0.581536</td>\n",
              "      <td>0.731422</td>\n",
              "      <td>-0.009424</td>\n",
              "      <td>0.386895</td>\n",
              "      <td>-0.498542</td>\n",
              "      <td>-0.182975</td>\n",
              "      <td>-0.604701</td>\n",
              "      <td>-0.000202</td>\n",
              "      <td>-0.198886</td>\n",
              "      <td>-0.572430</td>\n",
              "      <td>-0.214268</td>\n",
              "      <td>2.901754e+06</td>\n",
              "    </tr>\n",
              "    <tr>\n",
              "      <th>75%</th>\n",
              "      <td>4.825205e+06</td>\n",
              "      <td>1.000000</td>\n",
              "      <td>2.550619</td>\n",
              "      <td>0.111030</td>\n",
              "      <td>-0.090618</td>\n",
              "      <td>2.870976</td>\n",
              "      <td>1.480966</td>\n",
              "      <td>1.266340</td>\n",
              "      <td>0.193063</td>\n",
              "      <td>-0.182975</td>\n",
              "      <td>-0.116276</td>\n",
              "      <td>0.012220</td>\n",
              "      <td>0.111030</td>\n",
              "      <td>0.011653</td>\n",
              "      <td>0.190574</td>\n",
              "      <td>1.082763</td>\n",
              "      <td>1.644237</td>\n",
              "      <td>0.834404</td>\n",
              "      <td>0.859609</td>\n",
              "      <td>-0.053518</td>\n",
              "      <td>0.894064</td>\n",
              "      <td>0.417366</td>\n",
              "      <td>2.573069</td>\n",
              "      <td>0.118585</td>\n",
              "      <td>-0.110107</td>\n",
              "      <td>3.519071</td>\n",
              "      <td>1.949759</td>\n",
              "      <td>1.561332</td>\n",
              "      <td>0.266801</td>\n",
              "      <td>-0.182975</td>\n",
              "      <td>-0.042141</td>\n",
              "      <td>0.015643</td>\n",
              "      <td>0.118585</td>\n",
              "      <td>-0.103784</td>\n",
              "      <td>0.170400</td>\n",
              "      <td>7.685961e+06</td>\n",
              "    </tr>\n",
              "    <tr>\n",
              "      <th>max</th>\n",
              "      <td>1.606232e+09</td>\n",
              "      <td>1.000000</td>\n",
              "      <td>6.833548</td>\n",
              "      <td>4.270392</td>\n",
              "      <td>12.806670</td>\n",
              "      <td>27.234734</td>\n",
              "      <td>23.316201</td>\n",
              "      <td>70.718118</td>\n",
              "      <td>1.892051</td>\n",
              "      <td>26.368548</td>\n",
              "      <td>4.056425</td>\n",
              "      <td>0.264265</td>\n",
              "      <td>4.270392</td>\n",
              "      <td>18.118218</td>\n",
              "      <td>9.147865</td>\n",
              "      <td>1.268158</td>\n",
              "      <td>1.685831</td>\n",
              "      <td>1.487403</td>\n",
              "      <td>3.158971</td>\n",
              "      <td>1.873195</td>\n",
              "      <td>3.331682</td>\n",
              "      <td>1.698409</td>\n",
              "      <td>6.838213</td>\n",
              "      <td>7.563480</td>\n",
              "      <td>12.873529</td>\n",
              "      <td>27.234734</td>\n",
              "      <td>25.542604</td>\n",
              "      <td>70.718118</td>\n",
              "      <td>1.926861</td>\n",
              "      <td>26.602784</td>\n",
              "      <td>4.073650</td>\n",
              "      <td>0.400951</td>\n",
              "      <td>7.563480</td>\n",
              "      <td>14.834582</td>\n",
              "      <td>11.055260</td>\n",
              "      <td>2.096114e+09</td>\n",
              "    </tr>\n",
              "  </tbody>\n",
              "</table>\n",
              "</div>"
            ],
            "text/plain": [
              "       total_assets   defaulter  ...  assets_growth_plus_1Q  max_total_assets\n",
              "count  8.700000e+02  870.000000  ...             870.000000      8.700000e+02\n",
              "mean   1.313352e+07    0.481609  ...              -0.267356      1.934044e+07\n",
              "std    7.639600e+07    0.499949  ...               1.284103      1.130711e+08\n",
              "min    1.027900e+04    0.000000  ...             -15.281245      1.105100e+04\n",
              "25%    2.378598e+05    0.000000  ...              -0.688477      2.768382e+05\n",
              "50%    1.603880e+06    0.000000  ...              -0.214268      2.901754e+06\n",
              "75%    4.825205e+06    1.000000  ...               0.170400      7.685961e+06\n",
              "max    1.606232e+09    1.000000  ...              11.055260      2.096114e+09\n",
              "\n",
              "[8 rows x 36 columns]"
            ]
          },
          "metadata": {
            "tags": []
          },
          "execution_count": 20
        }
      ]
    },
    {
      "cell_type": "code",
      "metadata": {
        "id": "BG7XjB7MRwbn",
        "colab_type": "code",
        "outputId": "c3711f6c-75da-4767-c5bf-c6ad6495e482",
        "colab": {
          "base_uri": "https://localhost:8080/",
          "height": 509
        }
      },
      "source": [
        "# PLOTTING log_TA, NI_to_TA, assets_growth_plus_1Q, max_total_assets DISTRIBUTION  \n",
        "sns.set(style=\"white\", palette=\"muted\", color_codes=True)\n",
        "rs = np.random.RandomState(10)\n",
        "\n",
        "f, axes = plt.subplots(2, 2, figsize=(15, 7))\n",
        "sns.despine(left=True)\n",
        "\n",
        "sns.distplot(X['log_TA'], bins=50, fit=norm, ax=axes[0, 0], color = \"green\")\n",
        "sns.distplot(X[\"NI_to_TA\"], bins=50,fit=norm, ax=axes[0, 1], color = \"black\")\n",
        "sns.distplot(X[\"assets_growth_plus_1Q\"], bins=50,fit=norm, ax=axes[1, 0], color = \"black\")\n",
        "sns.distplot(X[\"max_total_assets\"], bins=500, fit=norm, ax=axes[1, 1], color = \"green\")\n",
        "\n",
        "# axes[0,0].set_xlim(10, 100)\n",
        "axes[1,1].set_xlim(-1e7, 5e7)\n",
        "\n",
        "axes[0,0].set_title(\"log_TA Distribution\")\n",
        "axes[0,1].set_title(\"NI_to_TA Lenght Distribution\")\n",
        "axes[1,0].set_title(\"assets_growth_plus_1Q Distribution\")\n",
        "axes[1,1].set_title(\"max_total_assets Distribution\")\n",
        "\n",
        "axes[0,0].set_xlabel('')\n",
        "axes[0,1].set_xlabel('')\n",
        "axes[1,0].set_xlabel('')\n",
        "axes[1,1].set_xlabel('')\n",
        "\n",
        "plt.setp(axes, yticks=[])\n",
        "plt.tight_layout()"
      ],
      "execution_count": 0,
      "outputs": [
        {
          "output_type": "display_data",
          "data": {
            "image/png": "[encoded data removed]",
            "text/plain": [
              "<Figure size 1080x504 with 4 Axes>"
            ]
          },
          "metadata": {
            "tags": []
          }
        }
      ]
    },
    {
      "cell_type": "code",
      "metadata": {
        "id": "069ApE8IKiDj",
        "colab_type": "code",
        "outputId": "fa9c79b1-7d23-4015-82f1-09cf3cd6df7a",
        "colab": {
          "base_uri": "https://localhost:8080/",
          "height": 733
        }
      },
      "source": [
        "# Compute the correlation matrix\n",
        "corr = X_train.corr()\n",
        "\n",
        "# Generate a mask for the upper triangle\n",
        "mask = np.triu(np.ones_like(corr, dtype=np.bool))\n",
        "\n",
        "# Set up the matplotlib figure\n",
        "f, ax = plt.subplots(figsize=(11, 9))\n",
        "\n",
        "# Generate a custom diverging colormap\n",
        "cmap = sns.diverging_palette(220, 10, as_cmap=True)\n",
        "\n",
        "# Draw the heatmap with the mask and correct aspect ratio\n",
        "sns.heatmap(corr, mask=mask, cmap=cmap, vmax=.3, center=0,\n",
        "            square=True, linewidths=.5, cbar_kws={\"shrink\": .5})"
      ],
      "execution_count": 0,
      "outputs": [
        {
          "output_type": "execute_result",
          "data": {
            "text/plain": [
              "<matplotlib.axes._subplots.AxesSubplot at 0x7f2d2d2f1438>"
            ]
          },
          "metadata": {
            "tags": []
          },
          "execution_count": 41
        },
        {
          "output_type": "display_data",
          "data": {
            "image/png": "[encoded data removed]",
            "text/plain": [
              "<Figure size 792x648 with 2 Axes>"
            ]
          },
          "metadata": {
            "tags": []
          }
        }
      ]
    },
    {
      "cell_type": "code",
      "metadata": {
        "id": "9KB2CNS6UOzo",
        "colab_type": "code",
        "outputId": "2555c996-180b-4bd7-ee11-623f9ca8d8c7",
        "colab": {
          "base_uri": "https://localhost:8080/",
          "height": 706
        }
      },
      "source": [
        "# Checking the missing values\n",
        "X.info(verbose=True, null_counts=True)"
      ],
      "execution_count": 0,
      "outputs": [
        {
          "output_type": "stream",
          "text": [
            "<class 'pandas.core.frame.DataFrame'>\n",
            "RangeIndex: 870 entries, 0 to 869\n",
            "Data columns (total 34 columns):\n",
            " #   Column                           Non-Null Count  Dtype  \n",
            "---  ------                           --------------  -----  \n",
            " 0   log_TA                           870 non-null    float64\n",
            " 1   NI_to_TA                         870 non-null    float64\n",
            " 2   Equity_to_TA                     870 non-null    float64\n",
            " 3   NPL_to_TL                        870 non-null    float64\n",
            " 4   REO_to_TA                        870 non-null    float64\n",
            " 5   ALLL_to_TL                       870 non-null    float64\n",
            " 6   core_deposits_to_TA              870 non-null    float64\n",
            " 7   brokered_deposits_to_TA          870 non-null    float64\n",
            " 8   liquid_assets_to_TA              870 non-null    float64\n",
            " 9   loss_provision_to_TL             870 non-null    float64\n",
            " 10  ROA                              870 non-null    float64\n",
            " 11  NIM                              870 non-null    float64\n",
            " 12  assets_growth                    870 non-null    float64\n",
            " 13  term_spread                      870 non-null    float64\n",
            " 14  stock_mkt_growth                 870 non-null    float64\n",
            " 15  real_gdp_growth                  870 non-null    float64\n",
            " 16  unemployment_rate_change         870 non-null    float64\n",
            " 17  treasury_yield_3m                870 non-null    float64\n",
            " 18  bbb_spread                       870 non-null    float64\n",
            " 19  bbb_spread_change                870 non-null    float64\n",
            " 20  log_TA_plus_1Q                   870 non-null    float64\n",
            " 21  NI_to_TA_plus_1Q                 870 non-null    float64\n",
            " 22  Equity_to_TA_plus_1Q             870 non-null    float64\n",
            " 23  NPL_to_TL_plus_1Q                870 non-null    float64\n",
            " 24  REO_to_TA_plus_1Q                870 non-null    float64\n",
            " 25  ALLL_to_TL_plus_1Q               870 non-null    float64\n",
            " 26  core_deposits_to_TA_plus_1Q      870 non-null    float64\n",
            " 27  brokered_deposits_to_TA_plus_1Q  870 non-null    float64\n",
            " 28  liquid_assets_to_TA_plus_1Q      870 non-null    float64\n",
            " 29  loss_provision_to_TL_plus_1Q     870 non-null    float64\n",
            " 30  ROA_plus_1Q                      870 non-null    float64\n",
            " 31  NIM_plus_1Q                      870 non-null    float64\n",
            " 32  assets_growth_plus_1Q            870 non-null    float64\n",
            " 33  max_total_assets                 870 non-null    int64  \n",
            "dtypes: float64(33), int64(1)\n",
            "memory usage: 231.2 KB\n"
          ],
          "name": "stdout"
        }
      ]
    },
    {
      "cell_type": "code",
      "metadata": {
        "id": "7iCKpbJXUQ5X",
        "colab_type": "code",
        "outputId": "9102563a-1ffc-4947-b150-ba2ef7ae1294",
        "colab": {
          "base_uri": "https://localhost:8080/",
          "height": 348
        }
      },
      "source": [
        "# class inbalance\n",
        "success_count = Y.value_counts()\n",
        "print(success_count)\n",
        "print('Proportion:', round(success_count[0] / success_count[1], 2), ': 1')\n",
        "\n",
        "success_count.plot(kind='bar', title='Count (success)', color=[\"#1aa64b\",\"#363837\"]);"
      ],
      "execution_count": 0,
      "outputs": [
        {
          "output_type": "stream",
          "text": [
            "0    451\n",
            "1    419\n",
            "Name: defaulter, dtype: int64\n",
            "Proportion: 1.08 : 1\n"
          ],
          "name": "stdout"
        },
        {
          "output_type": "display_data",
          "data": {
            "image/png": "[encoded data removed]",
            "text/plain": [
              "<Figure size 432x288 with 1 Axes>"
            ]
          },
          "metadata": {
            "tags": []
          }
        }
      ]
    },
    {
      "cell_type": "code",
      "metadata": {
        "colab_type": "code",
        "outputId": "e484a892-6877-492a-bcec-bba315514a76",
        "id": "3XhYf-XHwE_4",
        "colab": {
          "base_uri": "https://localhost:8080/",
          "height": 420
        }
      },
      "source": [
        "# applying decision tree\n",
        "\n",
        "from sklearn.model_selection import GridSearchCV\n",
        "from sklearn import tree\n",
        "from sklearn.tree import DecisionTreeClassifier\n",
        "\n",
        "params = {'max_leaf_nodes': list(range(2, 100)), 'min_samples_split': [2, 3, 4]}\n",
        "grid_search_cv = GridSearchCV(DecisionTreeClassifier(random_state=42), params, verbose=1, cv=3)\n",
        "\n",
        "grid_search_cv.fit(X, Y)\n"
      ],
      "execution_count": 0,
      "outputs": [
        {
          "output_type": "stream",
          "text": [
            "Fitting 3 folds for each of 294 candidates, totalling 882 fits\n"
          ],
          "name": "stdout"
        },
        {
          "output_type": "stream",
          "text": [
            "[Parallel(n_jobs=1)]: Using backend SequentialBackend with 1 concurrent workers.\n",
            "[Parallel(n_jobs=1)]: Done 882 out of 882 | elapsed:    9.6s finished\n"
          ],
          "name": "stderr"
        },
        {
          "output_type": "execute_result",
          "data": {
            "text/plain": [
              "GridSearchCV(cv=3, error_score=nan,\n",
              "             estimator=DecisionTreeClassifier(ccp_alpha=0.0, class_weight=None,\n",
              "                                              criterion='gini', max_depth=None,\n",
              "                                              max_features=None,\n",
              "                                              max_leaf_nodes=None,\n",
              "                                              min_impurity_decrease=0.0,\n",
              "                                              min_impurity_split=None,\n",
              "                                              min_samples_leaf=1,\n",
              "                                              min_samples_split=2,\n",
              "                                              min_weight_fraction_leaf=0.0,\n",
              "                                              presort='deprecated',\n",
              "                                              random_state=42,\n",
              "                                              splitter='best'),\n",
              "             iid='deprecated', n_jobs=None,\n",
              "             param_grid={'max_leaf_nodes': [2, 3, 4, 5, 6, 7, 8, 9, 10, 11, 12,\n",
              "                                            13, 14, 15, 16, 17, 18, 19, 20, 21,\n",
              "                                            22, 23, 24, 25, 26, 27, 28, 29, 30,\n",
              "                                            31, ...],\n",
              "                         'min_samples_split': [2, 3, 4]},\n",
              "             pre_dispatch='2*n_jobs', refit=True, return_train_score=False,\n",
              "             scoring=None, verbose=1)"
            ]
          },
          "metadata": {
            "tags": []
          },
          "execution_count": 3
        }
      ]
    },
    {
      "cell_type": "code",
      "metadata": {
        "colab_type": "code",
        "outputId": "d6348a64-af93-423c-d562-61cad97bd42b",
        "id": "Zvk1wtgMwD2H",
        "colab": {
          "base_uri": "https://localhost:8080/",
          "height": 34
        }
      },
      "source": [
        "# assessing decision tree accuracy\n",
        "\n",
        "from sklearn import metrics\n",
        "from statistics import mean\n",
        "Y_pred = grid_search_cv.predict(X_test)\n",
        "print(\"Accuracy:\",metrics.accuracy_score(Y_test, Y_pred))"
      ],
      "execution_count": 0,
      "outputs": [
        {
          "output_type": "stream",
          "text": [
            "Accuracy: 0.9693486590038314\n"
          ],
          "name": "stdout"
        }
      ]
    },
    {
      "cell_type": "code",
      "metadata": {
        "id": "nfBdx6eJTx0B",
        "colab_type": "code",
        "outputId": "f3860ebf-0041-43f7-91d2-2cd9e4873e72",
        "colab": {
          "base_uri": "https://localhost:8080/",
          "height": 50
        }
      },
      "source": [
        "from sklearn.metrics import confusion_matrix\n",
        "print(confusion_matrix(Y_pred,Y_test))"
      ],
      "execution_count": 0,
      "outputs": [
        {
          "output_type": "stream",
          "text": [
            "[[133   6]\n",
            " [  2 120]]\n"
          ],
          "name": "stdout"
        }
      ]
    },
    {
      "cell_type": "code",
      "metadata": {
        "id": "s8_GhCQ00c-o",
        "colab_type": "code",
        "outputId": "ca498c0a-4ad2-4870-9765-f4118a877929",
        "colab": {
          "base_uri": "https://localhost:8080/",
          "height": 151
        }
      },
      "source": [
        "# applying random forest\n",
        "\n",
        "from sklearn.ensemble import RandomForestClassifier\n",
        "\n",
        "forest = RandomForestClassifier(n_estimators=100)\n",
        "forest.fit(X_train, Y_train)\n"
      ],
      "execution_count": 0,
      "outputs": [
        {
          "output_type": "execute_result",
          "data": {
            "text/plain": [
              "RandomForestClassifier(bootstrap=True, ccp_alpha=0.0, class_weight=None,\n",
              "                       criterion='gini', max_depth=None, max_features='auto',\n",
              "                       max_leaf_nodes=None, max_samples=None,\n",
              "                       min_impurity_decrease=0.0, min_impurity_split=None,\n",
              "                       min_samples_leaf=1, min_samples_split=2,\n",
              "                       min_weight_fraction_leaf=0.0, n_estimators=100,\n",
              "                       n_jobs=None, oob_score=False, random_state=None,\n",
              "                       verbose=0, warm_start=False)"
            ]
          },
          "metadata": {
            "tags": []
          },
          "execution_count": 6
        }
      ]
    },
    {
      "cell_type": "code",
      "metadata": {
        "id": "21VtkT_l_tmN",
        "colab_type": "code",
        "outputId": "d67a4e29-60c0-4043-90aa-f27a1102508b",
        "colab": {
          "base_uri": "https://localhost:8080/",
          "height": 34
        }
      },
      "source": [
        "# assessing random forest accuracy\n",
        "\n",
        "from sklearn import metrics\n",
        "\n",
        "Y_pred_forest=forest.predict(X_test)\n",
        "print(\"Accuracy:\",metrics.accuracy_score(Y_test, Y_pred_forest))"
      ],
      "execution_count": 0,
      "outputs": [
        {
          "output_type": "stream",
          "text": [
            "Accuracy: 0.9540229885057471\n"
          ],
          "name": "stdout"
        }
      ]
    },
    {
      "cell_type": "code",
      "metadata": {
        "id": "cuU6UYaoULu3",
        "colab_type": "code",
        "outputId": "f79c38b5-b94c-4763-8d82-8519fc5ca351",
        "colab": {
          "base_uri": "https://localhost:8080/",
          "height": 50
        }
      },
      "source": [
        "from sklearn.metrics import confusion_matrix\n",
        "print(confusion_matrix(Y_pred_forest,Y_test))"
      ],
      "execution_count": 0,
      "outputs": [
        {
          "output_type": "stream",
          "text": [
            "[[133  10]\n",
            " [  2 116]]\n"
          ],
          "name": "stdout"
        }
      ]
    },
    {
      "cell_type": "code",
      "metadata": {
        "id": "_nLuboKrAnbW",
        "colab_type": "code",
        "outputId": "5f7955ad-0e04-4760-9b66-af71c00a1500",
        "colab": {
          "base_uri": "https://localhost:8080/",
          "height": 134
        }
      },
      "source": [
        "# applying logistic regression model\n",
        "\n",
        "from xgboost import XGBClassifier\n",
        "log_model = XGBClassifier()\n",
        "log_model.fit(X_train, Y_train)"
      ],
      "execution_count": 0,
      "outputs": [
        {
          "output_type": "execute_result",
          "data": {
            "text/plain": [
              "XGBClassifier(base_score=0.5, booster='gbtree', colsample_bylevel=1,\n",
              "              colsample_bynode=1, colsample_bytree=1, gamma=0,\n",
              "              learning_rate=0.1, max_delta_step=0, max_depth=3,\n",
              "              min_child_weight=1, missing=None, n_estimators=100, n_jobs=1,\n",
              "              nthread=None, objective='binary:logistic', random_state=0,\n",
              "              reg_alpha=0, reg_lambda=1, scale_pos_weight=1, seed=None,\n",
              "              silent=None, subsample=1, verbosity=1)"
            ]
          },
          "metadata": {
            "tags": []
          },
          "execution_count": 9
        }
      ]
    },
    {
      "cell_type": "code",
      "metadata": {
        "id": "XjU0MZ2AA-ci",
        "colab_type": "code",
        "outputId": "0456e4f4-6dc6-4c14-b227-eb08facf9bfb",
        "colab": {
          "base_uri": "https://localhost:8080/",
          "height": 34
        }
      },
      "source": [
        "from sklearn import metrics\n",
        "\n",
        "Y_pred_log_model=log_model.predict(X_test)\n",
        "print(\"Accuracy:\",metrics.accuracy_score(Y_test, Y_pred_log_model))"
      ],
      "execution_count": 0,
      "outputs": [
        {
          "output_type": "stream",
          "text": [
            "Accuracy: 0.9540229885057471\n"
          ],
          "name": "stdout"
        }
      ]
    },
    {
      "cell_type": "code",
      "metadata": {
        "id": "sQlkZpguUXmY",
        "colab_type": "code",
        "outputId": "d05eb66e-3ed5-4c0b-ec1b-e1f541466831",
        "colab": {
          "base_uri": "https://localhost:8080/",
          "height": 50
        }
      },
      "source": [
        "from sklearn.metrics import confusion_matrix\n",
        "print(confusion_matrix(Y_pred_log_model,Y_test))"
      ],
      "execution_count": 0,
      "outputs": [
        {
          "output_type": "stream",
          "text": [
            "[[133  10]\n",
            " [  2 116]]\n"
          ],
          "name": "stdout"
        }
      ]
    }
  ]
}